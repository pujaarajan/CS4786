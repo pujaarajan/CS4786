{
 "cells": [
  {
   "cell_type": "code",
   "execution_count": 62,
   "metadata": {
    "collapsed": false
   },
   "outputs": [
    {
     "name": "stdout",
     "output_type": "stream",
     "text": [
      "Using matplotlib backend: MacOSX\n",
      "Populating the interactive namespace from numpy and matplotlib\n"
     ]
    },
    {
     "name": "stderr",
     "output_type": "stream",
     "text": [
      "WARNING: pylab import has clobbered these variables: ['Figure', 'Annotation']\n",
      "`%matplotlib` prevents importing * from pylab and numpy\n"
     ]
    }
   ],
   "source": [
    "from numpy import genfromtxt\n",
    "import plotly.plotly as py\n",
    "import plotly.graph_objs as go\n",
    "import numpy as np\n",
    "from numpy import *\n",
    "import matplotlib\n",
    "import csv\n",
    "from scipy import sparse\n",
    "%pylab\n",
    "%matplotlib inline\n",
    "from matplotlib import pyplot as plt\n",
    "import plotly\n",
    "from plotly.graph_objs import *\n",
    "from plotly import tools\n",
    "plotly.tools.set_credentials_file(username='pujaarajan', api_key='7m16vvaw4j')\n",
    "from scipy import sparse as sp\n",
    "from sklearn import random_projection\n",
    "from sklearn import cluster"
   ]
  },
  {
   "cell_type": "markdown",
   "metadata": {},
   "source": [
    "#Import Data"
   ]
  },
  {
   "cell_type": "code",
   "execution_count": 53,
   "metadata": {
    "collapsed": false
   },
   "outputs": [],
   "source": [
    "description = genfromtxt('description.csv', delimiter=',')\n",
    "graph  = genfromtxt('graph.csv', delimiter=',')\n",
    "social_evolution = genfromtxt('social_and_evolution.csv', delimiter=',')"
   ]
  },
  {
   "cell_type": "markdown",
   "metadata": {},
   "source": [
    "#CCA FUNCTION"
   ]
  },
  {
   "cell_type": "code",
   "execution_count": 54,
   "metadata": {
    "collapsed": true
   },
   "outputs": [],
   "source": [
    "def cca(XA,XB,d):\n",
    "    XA_c=matrix(XA-average(XA,0))\n",
    "    XB_c=matrix(XB-average(XB,0))\n",
    "    sig11=transpose(XA_c)*XA_c\n",
    "    sig12=transpose(XA_c)*XB_c\n",
    "    sig22=transpose(XB_c)*XB_c\n",
    "    sig21=transpose(XB_c)*XA_c\n",
    "    lambdaA,wA=linalg.eigh(inv(sig11)*sig12*inv(sig22)*sig21)\n",
    "    ind=argsort(lambdaA)[::-1]\n",
    "    return XA_c*matrix(wA[:,ind[0:d]])"
   ]
  },
  {
   "cell_type": "markdown",
   "metadata": {},
   "source": [
    "#CCA 1 ON DESCRIPTION AND SOCIAL EVOLUTION"
   ]
  },
  {
   "cell_type": "code",
   "execution_count": 55,
   "metadata": {
    "collapsed": true
   },
   "outputs": [],
   "source": [
    "m=1829\n",
    "n=8000\n",
    "X_dat=genfromtxt('description.csv',delimiter=',')\n",
    "X_c1=sparse.coo_matrix((m,n))\n",
    "X_c1.data=X_dat[:,2].astype(float64)\n",
    "X_c1.row=X_dat[:,0].astype(int32)\n",
    "X_c1.col=X_dat[:,1].astype(int32)\n",
    "description_X=X_c1.todense()"
   ]
  },
  {
   "cell_type": "code",
   "execution_count": 56,
   "metadata": {
    "collapsed": false
   },
   "outputs": [],
   "source": [
    "cca1 = cca(social_evolution,description_X,3)"
   ]
  },
  {
   "cell_type": "markdown",
   "metadata": {},
   "source": [
    "#CCA 2 ON CCA 1 AND GRAPH"
   ]
  },
  {
   "cell_type": "code",
   "execution_count": 57,
   "metadata": {
    "collapsed": false
   },
   "outputs": [],
   "source": [
    "Y=genfromtxt('Y.csv',delimiter=',')"
   ]
  },
  {
   "cell_type": "code",
   "execution_count": 58,
   "metadata": {
    "collapsed": false,
    "scrolled": true
   },
   "outputs": [],
   "source": [
    "cca2 = cca(cca1,Y,2)"
   ]
  },
  {
   "cell_type": "code",
   "execution_count": 60,
   "metadata": {
    "collapsed": false
   },
   "outputs": [
    {
     "data": {
      "text/plain": [
       "matrix([[ 0.04340777, -0.08687138],\n",
       "        [-0.03033224,  0.0930695 ],\n",
       "        [ 0.10931707,  0.06128257],\n",
       "        [-0.06675834, -0.0529848 ],\n",
       "        [ 0.02934979, -0.15807753],\n",
       "        [ 0.05564288, -0.08499975]])"
      ]
     },
     "execution_count": 60,
     "metadata": {},
     "output_type": "execute_result"
    }
   ],
   "source": [
    "cca2[[12,1419,865,146,1653,1176]]"
   ]
  },
  {
   "cell_type": "code",
   "execution_count": 63,
   "metadata": {
    "collapsed": false
   },
   "outputs": [],
   "source": [
    "k_means = cluster.KMeans(n_clusters = 2)"
   ]
  },
  {
   "cell_type": "code",
   "execution_count": 64,
   "metadata": {
    "collapsed": false
   },
   "outputs": [
    {
     "data": {
      "text/plain": [
       "KMeans(copy_x=True, init='k-means++', max_iter=300, n_clusters=2, n_init=10,\n",
       "    n_jobs=1, precompute_distances='auto', random_state=None, tol=0.0001,\n",
       "    verbose=0)"
      ]
     },
     "execution_count": 64,
     "metadata": {},
     "output_type": "execute_result"
    }
   ],
   "source": [
    "k_means.fit(cca2)"
   ]
  },
  {
   "cell_type": "code",
   "execution_count": 74,
   "metadata": {
    "collapsed": false
   },
   "outputs": [
    {
     "data": {
      "text/plain": [
       "array([1, 0, 1, 0, 1, 1], dtype=int32)"
      ]
     },
     "execution_count": 74,
     "metadata": {},
     "output_type": "execute_result"
    }
   ],
   "source": []
  },
  {
   "cell_type": "markdown",
   "metadata": {},
   "source": [
    "#OTHER"
   ]
  },
  {
   "cell_type": "code",
   "execution_count": 59,
   "metadata": {
    "collapsed": true
   },
   "outputs": [],
   "source": [
    "cca1_3dim = cca(social_evolution,X,3)"
   ]
  },
  {
   "cell_type": "code",
   "execution_count": 88,
   "metadata": {
    "collapsed": true
   },
   "outputs": [],
   "source": [
    "data = go.Scatter3d(\n",
    "    x=cca1_3dim[:,0],\n",
    "    y=cca1_3dim[:,1],\n",
    "    z=cca1_3dim[:,2],\n",
    ")\n",
    "fig = go.Figure(data=[data])\n",
    "py.iplot(fig, filename='simple-3d-scatter')"
   ]
  }
 ],
 "metadata": {
  "kernelspec": {
   "display_name": "Python 2",
   "language": "python",
   "name": "python2"
  },
  "language_info": {
   "codemirror_mode": {
    "name": "ipython",
    "version": 2
   },
   "file_extension": ".py",
   "mimetype": "text/x-python",
   "name": "python",
   "nbconvert_exporter": "python",
   "pygments_lexer": "ipython2",
   "version": "2.7.10"
  }
 },
 "nbformat": 4,
 "nbformat_minor": 0
}
