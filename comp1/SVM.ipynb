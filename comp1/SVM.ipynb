{
 "cells": [
  {
   "cell_type": "code",
   "execution_count": 38,
   "metadata": {
    "collapsed": false
   },
   "outputs": [
    {
     "name": "stdout",
     "output_type": "stream",
     "text": [
      "Using matplotlib backend: Qt4Agg\n",
      "Populating the interactive namespace from numpy and matplotlib\n"
     ]
    }
   ],
   "source": [
    "from numpy import *\n",
    "from matplotlib import style\n",
    "style.use(\"ggplot\")\n",
    "from sklearn import svm\n",
    "from scipy import sparse as sp\n",
    "from sklearn.decomposition import TruncatedSVD\n",
    "from scipy import sparse as sp\n",
    "from sklearn import decomposition\n",
    "\n",
    "import matplotlib\n",
    "import csv\n",
    "from scipy import sparse\n",
    "%pylab\n",
    "%matplotlib inline\n",
    "from matplotlib import pyplot as plt\n",
    "\n",
    "from sklearn import cluster\n"
   ]
  },
  {
   "cell_type": "code",
   "execution_count": 30,
   "metadata": {
    "collapsed": false
   },
   "outputs": [],
   "source": [
    "description = np.genfromtxt('description.csv',delimiter=',')"
   ]
  },
  {
   "cell_type": "code",
   "execution_count": 10,
   "metadata": {
    "collapsed": false
   },
   "outputs": [],
   "source": [
    "known = np.genfromtxt('category_partial_supervision.csv',delimiter=',')\n",
    "known = known[1:]"
   ]
  },
  {
   "cell_type": "code",
   "execution_count": 12,
   "metadata": {
    "collapsed": false
   },
   "outputs": [],
   "source": [
    "social = np.genfromtxt('social_and_evolution.csv',delimiter=',')"
   ]
  },
  {
   "cell_type": "code",
   "execution_count": 31,
   "metadata": {
    "collapsed": false
   },
   "outputs": [],
   "source": [
    "def toDense(data,m,n):\n",
    "    X_dat=data\n",
    "    X_c=sp.coo_matrix((m,n))\n",
    "    X_c.data=X_dat[:,2].astype(float64)\n",
    "    X_c.row=X_dat[:,0].astype(int32)\n",
    "    X_c.col=X_dat[:,1].astype(int32)\n",
    "    X=X_c.todense()\n",
    "    return X"
   ]
  },
  {
   "cell_type": "code",
   "execution_count": 34,
   "metadata": {
    "collapsed": false
   },
   "outputs": [],
   "source": [
    "description= toDense(description,1829,8000)\n",
    "pca = decomposition.PCA(n_components=6000)\n",
    "pca.fit(description)\n",
    "description = pca.transform(description)"
   ]
  },
  {
   "cell_type": "code",
   "execution_count": 39,
   "metadata": {
    "collapsed": true
   },
   "outputs": [],
   "source": [
    "def cca(XA,XB,d):\n",
    "    XA_c=matrix(XA-average(XA,0))\n",
    "    XB_c=matrix(XB-average(XB,0))\n",
    "    sig11=transpose(XA_c)*XA_c\n",
    "    sig12=transpose(XA_c)*XB_c\n",
    "    sig22=transpose(XB_c)*XB_c\n",
    "    sig21=transpose(XB_c)*XA_c\n",
    "    lambdaA,wA=linalg.eigh(inv(sig11)*sig12*inv(sig22)*sig21)\n",
    "    ind=argsort(lambdaA)[::-1]\n",
    "    return XA_c*matrix(wA[:,ind[0:d]])"
   ]
  },
  {
   "cell_type": "code",
   "execution_count": 40,
   "metadata": {
    "collapsed": false
   },
   "outputs": [],
   "source": [
    "cca1 = cca(description,social,2)"
   ]
  },
  {
   "cell_type": "code",
   "execution_count": 41,
   "metadata": {
    "collapsed": false
   },
   "outputs": [
    {
     "data": {
      "text/plain": [
       "matrix([[-0.03266063, -0.000398  ],\n",
       "        [ 0.06955014,  0.01641089],\n",
       "        [ 0.01900177,  0.03033583],\n",
       "        ..., \n",
       "        [-0.01492065,  0.01251353],\n",
       "        [-0.04638806, -0.01961247],\n",
       "        [ 0.05049594,  0.00500898]])"
      ]
     },
     "execution_count": 41,
     "metadata": {},
     "output_type": "execute_result"
    }
   ],
   "source": [
    "cca1"
   ]
  },
  {
   "cell_type": "code",
   "execution_count": 44,
   "metadata": {
    "collapsed": true
   },
   "outputs": [],
   "source": [
    "clf = svm.SVC(kernel='rbf', C = 1.0)"
   ]
  },
  {
   "cell_type": "code",
   "execution_count": 88,
   "metadata": {
    "collapsed": false
   },
   "outputs": [],
   "source": [
    "known_cca1 = zeros([shape(known)[0],2])"
   ]
  },
  {
   "cell_type": "code",
   "execution_count": 89,
   "metadata": {
    "collapsed": true
   },
   "outputs": [],
   "source": [
    "known_cca1 = zeros([shape(known)[0],2])\n",
    "k = 0\n",
    "for i in known[:,0]:\n",
    "    known_cca1[k,0]=cca1[i,0]\n",
    "    known_cca1[k,1]=cca1[i,1]\n",
    "    k+=1"
   ]
  },
  {
   "cell_type": "code",
   "execution_count": 90,
   "metadata": {
    "collapsed": false
   },
   "outputs": [
    {
     "data": {
      "text/plain": [
       "array([[  4.60360950e-03,   3.64252164e-03],\n",
       "       [ -6.78939780e-02,  -2.31238332e-02],\n",
       "       [  3.10874892e-03,  -8.22118017e-05],\n",
       "       [  2.05275751e-02,  -3.06052126e-03],\n",
       "       [ -2.44768421e-02,  -2.17024802e-02],\n",
       "       [  1.07583737e-01,   1.04030123e-02],\n",
       "       [ -4.42294585e-02,   8.58090763e-03],\n",
       "       [  3.27400901e-02,  -8.83922638e-03],\n",
       "       [ -1.39877082e-02,  -1.91581467e-02],\n",
       "       [  4.59582480e-03,  -1.61309814e-02],\n",
       "       [ -1.27839346e-03,  -1.52433733e-02],\n",
       "       [  6.36234059e-02,  -2.56639560e-02],\n",
       "       [ -1.47771019e-02,  -5.67257051e-02],\n",
       "       [  1.20258714e-03,  -2.42288835e-02],\n",
       "       [  2.05509036e-02,   3.53310271e-02],\n",
       "       [  3.65724367e-02,  -6.37542199e-02],\n",
       "       [ -2.19331655e-02,   1.91183030e-02],\n",
       "       [ -2.38081640e-02,   3.94119495e-02],\n",
       "       [ -5.53272330e-02,  -2.58622251e-02],\n",
       "       [  3.46272060e-02,   2.07013758e-02],\n",
       "       [  2.91376694e-02,  -7.21783925e-03],\n",
       "       [  3.68610647e-04,   1.27384109e-03],\n",
       "       [ -1.39699992e-02,   2.44584798e-03],\n",
       "       [  1.03834016e-02,  -1.52068770e-02],\n",
       "       [ -4.63139972e-02,   5.87245663e-02],\n",
       "       [  7.05566322e-03,   1.78645129e-02],\n",
       "       [ -2.63740448e-02,   3.35484307e-03],\n",
       "       [  3.90457842e-04,  -2.97961642e-02],\n",
       "       [ -2.43195769e-03,  -1.26713118e-02],\n",
       "       [ -4.53202604e-02,  -3.34896274e-03],\n",
       "       [  2.65996781e-02,  -3.10181002e-02],\n",
       "       [ -2.37556769e-02,  -4.47418568e-02],\n",
       "       [  4.53718405e-02,  -2.79055333e-02],\n",
       "       [  2.98494205e-02,   1.36938607e-02],\n",
       "       [ -5.09272457e-03,  -1.24224072e-02],\n",
       "       [  4.54681562e-02,  -1.22811646e-04],\n",
       "       [ -1.17415172e-02,  -1.75486699e-02],\n",
       "       [ -1.99186118e-02,   2.43944284e-02],\n",
       "       [  2.23986515e-02,  -4.65172760e-04]])"
      ]
     },
     "execution_count": 90,
     "metadata": {},
     "output_type": "execute_result"
    }
   ],
   "source": [
    "known_cca1"
   ]
  },
  {
   "cell_type": "code",
   "execution_count": 91,
   "metadata": {
    "collapsed": false
   },
   "outputs": [
    {
     "data": {
      "text/plain": [
       "SVC(C=1.0, cache_size=200, class_weight=None, coef0=0.0,\n",
       "  decision_function_shape=None, degree=3, gamma='auto', kernel='rbf',\n",
       "  max_iter=-1, probability=False, random_state=None, shrinking=True,\n",
       "  tol=0.001, verbose=False)"
      ]
     },
     "execution_count": 91,
     "metadata": {},
     "output_type": "execute_result"
    }
   ],
   "source": [
    "clf.fit(known_cca1,known[:,1])"
   ]
  },
  {
   "cell_type": "code",
   "execution_count": 108,
   "metadata": {
    "collapsed": false
   },
   "outputs": [
    {
     "data": {
      "text/plain": [
       "array([[  4.60360950e-03,   3.64252164e-03],\n",
       "       [ -6.78939780e-02,  -2.31238332e-02],\n",
       "       [  3.10874892e-03,  -8.22118017e-05],\n",
       "       [  2.05275751e-02,  -3.06052126e-03],\n",
       "       [ -2.44768421e-02,  -2.17024802e-02],\n",
       "       [  1.07583737e-01,   1.04030123e-02],\n",
       "       [ -4.42294585e-02,   8.58090763e-03],\n",
       "       [  3.27400901e-02,  -8.83922638e-03],\n",
       "       [ -1.39877082e-02,  -1.91581467e-02],\n",
       "       [  4.59582480e-03,  -1.61309814e-02],\n",
       "       [ -1.27839346e-03,  -1.52433733e-02],\n",
       "       [  6.36234059e-02,  -2.56639560e-02],\n",
       "       [ -1.47771019e-02,  -5.67257051e-02],\n",
       "       [  1.20258714e-03,  -2.42288835e-02],\n",
       "       [  2.05509036e-02,   3.53310271e-02],\n",
       "       [  3.65724367e-02,  -6.37542199e-02],\n",
       "       [ -2.19331655e-02,   1.91183030e-02],\n",
       "       [ -2.38081640e-02,   3.94119495e-02],\n",
       "       [ -5.53272330e-02,  -2.58622251e-02],\n",
       "       [  3.46272060e-02,   2.07013758e-02],\n",
       "       [  2.91376694e-02,  -7.21783925e-03],\n",
       "       [  3.68610647e-04,   1.27384109e-03],\n",
       "       [ -1.39699992e-02,   2.44584798e-03],\n",
       "       [  1.03834016e-02,  -1.52068770e-02],\n",
       "       [ -4.63139972e-02,   5.87245663e-02],\n",
       "       [  7.05566322e-03,   1.78645129e-02],\n",
       "       [ -2.63740448e-02,   3.35484307e-03],\n",
       "       [  3.90457842e-04,  -2.97961642e-02],\n",
       "       [ -2.43195769e-03,  -1.26713118e-02],\n",
       "       [ -4.53202604e-02,  -3.34896274e-03],\n",
       "       [  2.65996781e-02,  -3.10181002e-02],\n",
       "       [ -2.37556769e-02,  -4.47418568e-02],\n",
       "       [  4.53718405e-02,  -2.79055333e-02],\n",
       "       [  2.98494205e-02,   1.36938607e-02],\n",
       "       [ -5.09272457e-03,  -1.24224072e-02],\n",
       "       [  4.54681562e-02,  -1.22811646e-04],\n",
       "       [ -1.17415172e-02,  -1.75486699e-02],\n",
       "       [ -1.99186118e-02,   2.43944284e-02],\n",
       "       [  2.23986515e-02,  -4.65172760e-04]])"
      ]
     },
     "execution_count": 108,
     "metadata": {},
     "output_type": "execute_result"
    }
   ],
   "source": [
    "known_cca1"
   ]
  },
  {
   "cell_type": "code",
   "execution_count": 104,
   "metadata": {
    "collapsed": false
   },
   "outputs": [
    {
     "name": "stdout",
     "output_type": "stream",
     "text": [
      "80.0 0.0 7\n",
      "452.0 0.0 0\n",
      "1688.0 0.0 7\n",
      "262.0 1.0 11\n",
      "449.0 1.0 9\n",
      "1714.0 1.0 1\n",
      "396.0 2.0 0\n",
      "1032.0 2.0 3\n",
      "1261.0 2.0 9\n",
      "226.0 3.0 7\n",
      "1189.0 3.0 7\n",
      "1200.0 3.0 3\n",
      "501.0 4.0 10\n",
      "1361.0 4.0 4\n",
      "1740.0 4.0 11\n",
      "810.0 5.0 10\n",
      "1412.0 5.0 12\n",
      "1173.0 5.0 8\n",
      "1553.0 6.0 0\n",
      "1576.0 6.0 11\n",
      "1650.0 6.0 3\n",
      "270.0 7.0 7\n",
      "1798.0 7.0 12\n",
      "1800.0 7.0 6\n",
      "1385.0 8.0 8\n",
      "1453.0 8.0 12\n",
      "1686.0 8.0 9\n",
      "598.0 9.0 10\n",
      "670.0 9.0 7\n",
      "684.0 9.0 0\n",
      "900.0 10.0 3\n",
      "926.0 10.0 9\n",
      "1191.0 10.0 3\n",
      "232.0 11.0 11\n",
      "643.0 11.0 7\n",
      "1539.0 11.0 11\n",
      "491.0 12.0 4\n",
      "594.0 12.0 8\n",
      "1168.0 12.0 11\n"
     ]
    }
   ],
   "source": [
    "for i in known:\n",
    "    print str(i[0]) + \" \" + str(i[1]) + \" \" + str(int(clf.predict(cca1[i[0]])))"
   ]
  }
 ],
 "metadata": {
  "kernelspec": {
   "display_name": "Python 2",
   "language": "python",
   "name": "python2"
  },
  "language_info": {
   "codemirror_mode": {
    "name": "ipython",
    "version": 2
   },
   "file_extension": ".py",
   "mimetype": "text/x-python",
   "name": "python",
   "nbconvert_exporter": "python",
   "pygments_lexer": "ipython2",
   "version": "2.7.11"
  }
 },
 "nbformat": 4,
 "nbformat_minor": 0
}
