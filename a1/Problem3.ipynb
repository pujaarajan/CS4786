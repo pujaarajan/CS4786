{
 "cells": [
  {
   "cell_type": "code",
   "execution_count": 369,
   "metadata": {
    "collapsed": false
   },
   "outputs": [
    {
     "name": "stdout",
     "output_type": "stream",
     "text": [
      "Using matplotlib backend: MacOSX\n",
      "Populating the interactive namespace from numpy and matplotlib\n"
     ]
    },
    {
     "name": "stderr",
     "output_type": "stream",
     "text": [
      "WARNING: pylab import has clobbered these variables: ['test']\n",
      "`%matplotlib` prevents importing * from pylab and numpy\n"
     ]
    }
   ],
   "source": [
    "%pylab"
   ]
  },
  {
   "cell_type": "code",
   "execution_count": 370,
   "metadata": {
    "collapsed": true
   },
   "outputs": [],
   "source": [
    "def err(X,Y):\n",
    "    err=0.\n",
    "    n=size(X,0)\n",
    "    sum=0.\n",
    "    for i in range(0,n):\n",
    "        for j in range(i,n):\n",
    "            sum=sum+abs(norm(Y[j,:]-Y[i,:])-norm(X[j,:]-X[i,:]))\n",
    "    sum=sum/(n*(n-1)/2)\n",
    "    return sum"
   ]
  },
  {
   "cell_type": "code",
   "execution_count": 371,
   "metadata": {
    "collapsed": false
   },
   "outputs": [],
   "source": [
    "A=zeros((100,1000))"
   ]
  },
  {
   "cell_type": "code",
   "execution_count": 372,
   "metadata": {
    "collapsed": true
   },
   "outputs": [],
   "source": [
    "B=zeros((100,1000))"
   ]
  },
  {
   "cell_type": "code",
   "execution_count": 438,
   "metadata": {
    "collapsed": false
   },
   "outputs": [],
   "source": [
    "for i in range(0,100):\n",
    "    for j in range(0,20):\n",
    "        A[i,j]=rand()\n",
    "    A[i,:]/norm(A[i,:])\n",
    "for i in range(0,100):\n",
    "    B[i,:]=rand(1000)\n",
    "    for j in range(0,1000):\n",
    "        test=rand()\n",
    "        if (test>0.99):\n",
    "            B[i,j]=0.\n",
    "    B[i,:]=B[i,:]/norm(B[i,:])"
   ]
  },
  {
   "cell_type": "code",
   "execution_count": 439,
   "metadata": {
    "collapsed": true
   },
   "outputs": [],
   "source": [
    "def pca(A):\n",
    "    meanA=(average(A,0))\n",
    "    centA=A-meanA\n",
    "    sigA=transpose(matrix(A))*matrix(A)\n",
    "    lambdaA,wA=linalg.eig(sigA)\n",
    "    WA=zeros((1000,20))\n",
    "    for i in range(0,20):\n",
    "        WA[:,i]=real(transpose(wA[:,i]))\n",
    "    yA=matrix(A)*matrix(WA)\n",
    "    print(err(yA,A))"
   ]
  },
  {
   "cell_type": "code",
   "execution_count": 440,
   "metadata": {
    "collapsed": false
   },
   "outputs": [],
   "source": [
    "def randP(A):\n",
    "    random.seed(5)\n",
    "    d=size(A,1)\n",
    "    k=20\n",
    "    R=zeros((d,k))\n",
    "    for i in range(0,d):\n",
    "        R[i,:]=sign(0.5-rand(20))/sqrt(20)\n",
    "    yA=matrix(A)*(R)\n",
    "    print(err(yA,A))"
   ]
  },
  {
   "cell_type": "markdown",
   "metadata": {},
   "source": [
    "A should be good with PCA and B should be good with random projection"
   ]
  },
  {
   "cell_type": "code",
   "execution_count": 441,
   "metadata": {
    "collapsed": false
   },
   "outputs": [
    {
     "name": "stdout",
     "output_type": "stream",
     "text": [
      "3.84935629948e-15\n"
     ]
    }
   ],
   "source": [
    "pca(A)"
   ]
  },
  {
   "cell_type": "code",
   "execution_count": 442,
   "metadata": {
    "collapsed": false
   },
   "outputs": [
    {
     "name": "stdout",
     "output_type": "stream",
     "text": [
      "0.338739681311\n"
     ]
    }
   ],
   "source": [
    "pca(B)"
   ]
  },
  {
   "cell_type": "code",
   "execution_count": 443,
   "metadata": {
    "collapsed": false
   },
   "outputs": [
    {
     "name": "stdout",
     "output_type": "stream",
     "text": [
      "0.221280952422\n"
     ]
    }
   ],
   "source": [
    "randP(A)"
   ]
  },
  {
   "cell_type": "code",
   "execution_count": 444,
   "metadata": {
    "collapsed": false
   },
   "outputs": [
    {
     "name": "stdout",
     "output_type": "stream",
     "text": [
      "0.094655995702\n"
     ]
    }
   ],
   "source": [
    "randP(B)"
   ]
  },
  {
   "cell_type": "code",
   "execution_count": null,
   "metadata": {
    "collapsed": true
   },
   "outputs": [],
   "source": []
  }
 ],
 "metadata": {
  "kernelspec": {
   "display_name": "Python 2",
   "language": "python",
   "name": "python2"
  },
  "language_info": {
   "codemirror_mode": {
    "name": "ipython",
    "version": 2
   },
   "file_extension": ".py",
   "mimetype": "text/x-python",
   "name": "python",
   "nbconvert_exporter": "python",
   "pygments_lexer": "ipython2",
   "version": "2.7.10"
  }
 },
 "nbformat": 4,
 "nbformat_minor": 0
}
