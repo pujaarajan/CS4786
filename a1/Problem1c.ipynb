{
 "cells": [
  {
   "cell_type": "code",
   "execution_count": 98,
   "metadata": {
    "collapsed": true
   },
   "outputs": [],
   "source": [
    "import numpy\n",
    "import numpy.matlib\n",
    "import matplotlib.pyplot\n",
    "%matplotlib inline\n",
    "import random\n",
    "import matplotlib.cm as cm"
   ]
  },
  {
   "cell_type": "code",
   "execution_count": 99,
   "metadata": {
    "collapsed": false
   },
   "outputs": [],
   "source": [
    "Xbad = numpy.matrix(numpy.loadtxt(\"q1/Xbad.csv\", delimiter=\",\"))\n",
    "# now X is the data matrix and each row of X corresponds to one data point\n",
    "MuGood = numpy.matrix(numpy.loadtxt(\"q1/Mu.csv\", delimiter=\",\"))\n",
    "# Mu is the mean vector of all the smilie faces (in vector format)\n",
    "WGood = numpy.matrix(numpy.loadtxt(\"q1/W.csv\", delimiter=\",\"))\n",
    "Y1Good = numpy.matrix(numpy.loadtxt(\"q1/Y1.csv\", delimiter=\",\"))\n",
    "#already good ones Y1, W, and Mu"
   ]
  },
  {
   "cell_type": "code",
   "execution_count": 126,
   "metadata": {
    "collapsed": false
   },
   "outputs": [
    {
     "ename": "LinAlgError",
     "evalue": "Last 2 dimensions of the array must be square",
     "output_type": "error",
     "traceback": [
      "\u001b[0;31m---------------------------------------------------------------------------\u001b[0m",
      "\u001b[0;31mLinAlgError\u001b[0m                               Traceback (most recent call last)",
      "\u001b[0;32m<ipython-input-126-2ac9be3371b2>\u001b[0m in \u001b[0;36m<module>\u001b[0;34m()\u001b[0m\n\u001b[1;32m      1\u001b[0m \u001b[0mSigma\u001b[0m \u001b[0;34m=\u001b[0m \u001b[0mnumpy\u001b[0m\u001b[0;34m.\u001b[0m\u001b[0mmatrix\u001b[0m\u001b[0;34m(\u001b[0m\u001b[0mnumpy\u001b[0m\u001b[0;34m.\u001b[0m\u001b[0mlinalg\u001b[0m\u001b[0;34m.\u001b[0m\u001b[0msvd\u001b[0m\u001b[0;34m(\u001b[0m\u001b[0mXbad\u001b[0m\u001b[0;34m.\u001b[0m\u001b[0mT\u001b[0m\u001b[0;34m)\u001b[0m\u001b[0;34m)\u001b[0m\u001b[0;34m\u001b[0m\u001b[0m\n\u001b[1;32m      2\u001b[0m \u001b[0;31m# Numpy does the covariance calculation for you using function cov\u001b[0m\u001b[0;34m\u001b[0m\u001b[0;34m\u001b[0m\u001b[0m\n\u001b[0;32m----> 3\u001b[0;31m \u001b[0mWbad\u001b[0m \u001b[0;34m=\u001b[0m \u001b[0mnumpy\u001b[0m\u001b[0;34m.\u001b[0m\u001b[0mlinalg\u001b[0m\u001b[0;34m.\u001b[0m\u001b[0meig\u001b[0m\u001b[0;34m(\u001b[0m\u001b[0mSigma\u001b[0m\u001b[0;34m)\u001b[0m\u001b[0;34m[\u001b[0m\u001b[0;36m1\u001b[0m\u001b[0;34m]\u001b[0m\u001b[0;34m[\u001b[0m\u001b[0;34m:\u001b[0m\u001b[0;34m,\u001b[0m\u001b[0;34m:\u001b[0m\u001b[0;36m20\u001b[0m\u001b[0;34m]\u001b[0m\u001b[0;34m\u001b[0m\u001b[0m\n\u001b[0m",
      "\u001b[0;32m/Applications/anaconda/lib/python2.7/site-packages/numpy/linalg/linalg.pyc\u001b[0m in \u001b[0;36meig\u001b[0;34m(a)\u001b[0m\n\u001b[1;32m   1094\u001b[0m     \u001b[0ma\u001b[0m\u001b[0;34m,\u001b[0m \u001b[0mwrap\u001b[0m \u001b[0;34m=\u001b[0m \u001b[0m_makearray\u001b[0m\u001b[0;34m(\u001b[0m\u001b[0ma\u001b[0m\u001b[0;34m)\u001b[0m\u001b[0;34m\u001b[0m\u001b[0m\n\u001b[1;32m   1095\u001b[0m     \u001b[0m_assertRankAtLeast2\u001b[0m\u001b[0;34m(\u001b[0m\u001b[0ma\u001b[0m\u001b[0;34m)\u001b[0m\u001b[0;34m\u001b[0m\u001b[0m\n\u001b[0;32m-> 1096\u001b[0;31m     \u001b[0m_assertNdSquareness\u001b[0m\u001b[0;34m(\u001b[0m\u001b[0ma\u001b[0m\u001b[0;34m)\u001b[0m\u001b[0;34m\u001b[0m\u001b[0m\n\u001b[0m\u001b[1;32m   1097\u001b[0m     \u001b[0m_assertFinite\u001b[0m\u001b[0;34m(\u001b[0m\u001b[0ma\u001b[0m\u001b[0;34m)\u001b[0m\u001b[0;34m\u001b[0m\u001b[0m\n\u001b[1;32m   1098\u001b[0m     \u001b[0mt\u001b[0m\u001b[0;34m,\u001b[0m \u001b[0mresult_t\u001b[0m \u001b[0;34m=\u001b[0m \u001b[0m_commonType\u001b[0m\u001b[0;34m(\u001b[0m\u001b[0ma\u001b[0m\u001b[0;34m)\u001b[0m\u001b[0;34m\u001b[0m\u001b[0m\n",
      "\u001b[0;32m/Applications/anaconda/lib/python2.7/site-packages/numpy/linalg/linalg.pyc\u001b[0m in \u001b[0;36m_assertNdSquareness\u001b[0;34m(*arrays)\u001b[0m\n\u001b[1;32m    210\u001b[0m     \u001b[0;32mfor\u001b[0m \u001b[0ma\u001b[0m \u001b[0;32min\u001b[0m \u001b[0marrays\u001b[0m\u001b[0;34m:\u001b[0m\u001b[0;34m\u001b[0m\u001b[0m\n\u001b[1;32m    211\u001b[0m         \u001b[0;32mif\u001b[0m \u001b[0mmax\u001b[0m\u001b[0;34m(\u001b[0m\u001b[0ma\u001b[0m\u001b[0;34m.\u001b[0m\u001b[0mshape\u001b[0m\u001b[0;34m[\u001b[0m\u001b[0;34m-\u001b[0m\u001b[0;36m2\u001b[0m\u001b[0;34m:\u001b[0m\u001b[0;34m]\u001b[0m\u001b[0;34m)\u001b[0m \u001b[0;34m!=\u001b[0m \u001b[0mmin\u001b[0m\u001b[0;34m(\u001b[0m\u001b[0ma\u001b[0m\u001b[0;34m.\u001b[0m\u001b[0mshape\u001b[0m\u001b[0;34m[\u001b[0m\u001b[0;34m-\u001b[0m\u001b[0;36m2\u001b[0m\u001b[0;34m:\u001b[0m\u001b[0;34m]\u001b[0m\u001b[0;34m)\u001b[0m\u001b[0;34m:\u001b[0m\u001b[0;34m\u001b[0m\u001b[0m\n\u001b[0;32m--> 212\u001b[0;31m             \u001b[0;32mraise\u001b[0m \u001b[0mLinAlgError\u001b[0m\u001b[0;34m(\u001b[0m\u001b[0;34m'Last 2 dimensions of the array must be square'\u001b[0m\u001b[0;34m)\u001b[0m\u001b[0;34m\u001b[0m\u001b[0m\n\u001b[0m\u001b[1;32m    213\u001b[0m \u001b[0;34m\u001b[0m\u001b[0m\n\u001b[1;32m    214\u001b[0m \u001b[0;32mdef\u001b[0m \u001b[0m_assertFinite\u001b[0m\u001b[0;34m(\u001b[0m\u001b[0;34m*\u001b[0m\u001b[0marrays\u001b[0m\u001b[0;34m)\u001b[0m\u001b[0;34m:\u001b[0m\u001b[0;34m\u001b[0m\u001b[0m\n",
      "\u001b[0;31mLinAlgError\u001b[0m: Last 2 dimensions of the array must be square"
     ]
    }
   ],
   "source": [
    "#Sigma = numpy.matrix(numpy.linalg.svd(Xbad.T))\n",
    "# Numpy does the covariance calculation for you using function cov\n",
    "#Wbad = numpy.linalg.eig(Sigma)[1][:,:20]"
   ]
  },
  {
   "cell_type": "code",
   "execution_count": 102,
   "metadata": {
    "collapsed": false
   },
   "outputs": [],
   "source": [
    "#Wbad = numpy.linalg.svd(Xbad)[2].T[:,:20]"
   ]
  },
  {
   "cell_type": "code",
   "execution_count": 103,
   "metadata": {
    "collapsed": true
   },
   "outputs": [],
   "source": [
    "onecolmu = numpy.mean(Xbad,0) #IS THIS RIGHT"
   ]
  },
  {
   "cell_type": "code",
   "execution_count": 104,
   "metadata": {
    "collapsed": true
   },
   "outputs": [],
   "source": [
    "allcolmu = numpy.matlib.repmat(onecolmu,28,1) #IS THIS RIGHT"
   ]
  },
  {
   "cell_type": "code",
   "execution_count": 105,
   "metadata": {
    "collapsed": false
   },
   "outputs": [],
   "source": [
    "YBad = (Xbad-allcolmu)*Wbad\n",
    "# Here is the line that does the linear projection to lower dimension\n",
    "# We are doing all the 28 ones in a batch and repmat repeats the single\n",
    "# mean vector 28 times"
   ]
  },
  {
   "cell_type": "code",
   "execution_count": 106,
   "metadata": {
    "collapsed": false
   },
   "outputs": [
    {
     "data": {
      "text/plain": [
       "(28, 20)"
      ]
     },
     "execution_count": 106,
     "metadata": {},
     "output_type": "execute_result"
    }
   ],
   "source": [
    "YBad.shape"
   ]
  },
  {
   "cell_type": "code",
   "execution_count": 107,
   "metadata": {
    "collapsed": false
   },
   "outputs": [],
   "source": [
    "Y1Bad = YBad[0]"
   ]
  },
  {
   "cell_type": "code",
   "execution_count": 108,
   "metadata": {
    "collapsed": false
   },
   "outputs": [
    {
     "data": {
      "text/plain": [
       "(1, 20)"
      ]
     },
     "execution_count": 108,
     "metadata": {},
     "output_type": "execute_result"
    }
   ],
   "source": [
    "Y1Bad.shape"
   ]
  },
  {
   "cell_type": "markdown",
   "metadata": {},
   "source": [
    "#HELP"
   ]
  },
  {
   "cell_type": "code",
   "execution_count": 129,
   "metadata": {
    "collapsed": false
   },
   "outputs": [
    {
     "data": {
      "text/plain": [
       "matrix([[  2.46920388e+02,   1.24058115e+03,   5.71756937e+02,\n",
       "          -1.28485634e+03,   1.13576028e+03,  -7.51556496e+02,\n",
       "           2.85075120e+02,   8.36405250e+02,   6.85665246e+01,\n",
       "          -1.72043840e+02,  -3.25091657e+02,   1.94436941e+02,\n",
       "           7.01293268e+01,   7.15825526e+02,  -2.09226588e+02,\n",
       "          -1.09098255e+03,  -1.74587142e+03,  -2.11553181e+02,\n",
       "          -3.23326943e+01,  -7.52529323e+02],\n",
       "        [ -3.56196759e+02,   1.12244529e+03,  -2.30260681e+02,\n",
       "           6.78482822e+02,  -1.10487547e+03,  -4.32668923e+02,\n",
       "           5.40814288e+02,   4.03577857e+01,   1.99153947e+02,\n",
       "           1.40928098e+02,  -2.93374897e+02,   9.85082900e+01,\n",
       "           4.88817076e+02,  -6.40293645e+02,  -4.97177604e+02,\n",
       "           8.62717301e+02,   9.44227723e+02,   8.15028818e+02,\n",
       "          -1.15177722e+03,  -3.44840952e+02],\n",
       "        [ -3.53817241e+02,   1.30085677e+03,  -4.55062806e+01,\n",
       "           1.74410858e+02,  -1.23806887e+03,  -2.53248472e+02,\n",
       "           5.55233873e+02,  -1.16664909e+02,   7.60521551e+01,\n",
       "           9.24021505e+02,  -2.00923269e+02,   6.55130546e+02,\n",
       "          -3.28073408e+02,  -2.23278345e+02,   5.29602276e+00,\n",
       "           3.64262185e+02,  -4.94462810e+02,  -1.93672174e+02,\n",
       "           1.01443430e+02,   1.30327923e+03],\n",
       "        [ -2.50423432e+02,   1.20995324e+03,  -2.92591395e+02,\n",
       "           1.04105507e+03,  -1.12742051e+03,   4.24226096e+02,\n",
       "          -3.38068606e-01,   2.91383668e+02,  -6.37586193e+01,\n",
       "           5.15296203e+02,  -5.12208422e+02,   1.12306823e+03,\n",
       "           1.01932743e+03,  -7.11933735e+02,   4.65506578e+02,\n",
       "          -4.83472071e+02,   9.26430635e+02,  -1.41678437e+03,\n",
       "           3.19505126e+02,  -5.07773945e+02],\n",
       "        [ -2.67430533e+02,   1.27772300e+03,  -9.65960639e+02,\n",
       "           1.57309658e+03,  -9.27616321e+02,   6.86000442e+02,\n",
       "          -3.40381606e+02,   1.19964255e+03,  -2.11357834e+02,\n",
       "           3.04440900e+01,  -7.41851805e+01,  -6.64776003e+02,\n",
       "          -7.92243034e+02,  -2.92519848e+02,  -2.27227427e+00,\n",
       "           4.10907045e+02,   9.26278200e+02,   6.89516995e+02,\n",
       "           1.44272262e+03,   3.44185178e+02],\n",
       "        [  2.45313579e+02,   1.69428832e+03,   1.43926391e+03,\n",
       "          -1.36694219e+03,  -8.97419081e+02,   1.40821133e+03,\n",
       "           2.16743607e+03,  -3.68721993e+02,   6.22591962e+02,\n",
       "           4.74736415e+01,  -1.58693466e+02,  -1.77224319e+03,\n",
       "          -6.33740470e+02,   3.15927452e+02,  -7.14738214e+02,\n",
       "          -1.76026440e+02,   1.23526382e+02,  -9.79280205e+02,\n",
       "          -2.77535325e+02,   8.88475958e+01],\n",
       "        [  8.06443889e+02,   2.13365317e+03,   8.51278229e+02,\n",
       "          -1.25044131e+03,   1.05499508e+03,  -9.17459051e+02,\n",
       "           3.62624177e+03,   1.75695885e+03,   4.21789314e+02,\n",
       "          -5.25043942e+02,   3.62172679e+02,   9.88929523e+02,\n",
       "           2.52943480e+02,   3.59030330e+01,   2.78475462e+02,\n",
       "          -2.73873420e+02,  -2.16215938e+02,   5.60833661e+02,\n",
       "           2.51768802e+02,  -1.80323747e+02],\n",
       "        [ -1.66020727e+02,   1.49824357e+03,  -5.00868845e+02,\n",
       "          -6.51221762e+02,  -1.18925984e+03,  -3.56198884e+02,\n",
       "          -7.50020849e+02,   3.91477151e+02,  -3.09019565e+02,\n",
       "           8.28983303e+02,   7.15181660e+02,  -1.01268304e+02,\n",
       "          -1.01414055e+03,  -1.71836911e+02,   1.56874610e+03,\n",
       "          -7.29190666e+02,   6.01169630e+01,   1.48590394e+02,\n",
       "          -9.39147573e+02,   4.52125339e+02],\n",
       "        [  5.97610377e+02,   2.92252414e+03,  -1.21114141e+03,\n",
       "          -1.88846660e+03,   1.00639683e+03,   2.09960400e+03,\n",
       "          -1.37235065e+03,   1.05657303e+03,  -5.54867863e+02,\n",
       "          -1.35287594e+03,  -1.36799580e+02,  -2.19067855e+02,\n",
       "          -2.78725293e+02,   4.45112184e+02,   1.34609092e+02,\n",
       "           3.38553939e+02,   4.71976867e+02,  -1.20701277e+01,\n",
       "          -3.63249745e+02,  -2.80461091e+02],\n",
       "        [  5.97128376e+02,   2.49210688e+03,   5.02870329e+02,\n",
       "          -2.74251373e+03,   8.01640592e+02,   1.81697452e+03,\n",
       "          -8.89362295e+02,  -1.40191556e+03,  -2.24366368e+02,\n",
       "          -2.75915608e+02,  -7.18810018e+02,   2.29248372e+02,\n",
       "           1.19746122e+03,  -5.05510053e+02,   2.78351944e+02,\n",
       "          -3.94233445e+02,  -4.96027432e+02,   4.70213069e+02,\n",
       "           4.31910917e+02,   4.37091924e+02],\n",
       "        [ -1.16128114e+02,   1.20631500e+03,   7.70487351e+02,\n",
       "          -1.55107423e+03,  -1.02882425e+03,  -4.29734971e+02,\n",
       "          -4.37538324e+02,  -1.38340980e+03,  -3.21282506e+02,\n",
       "           1.76322679e+03,   5.28367212e+02,   2.03903441e+02,\n",
       "          -7.31149645e+02,   2.52494724e+02,  -4.85390418e+02,\n",
       "          -4.73948723e+02,  -5.80399702e+01,   5.30282077e+02,\n",
       "           5.22650898e+02,  -1.07437559e+03],\n",
       "        [ -3.14175046e+01,   3.76710032e+02,   1.05671160e+03,\n",
       "           5.34346383e+02,   1.05568374e+03,  -2.46823599e+03,\n",
       "          -1.40129074e+02,  -2.63183681e+02,  -8.71676386e+02,\n",
       "          -2.73641189e+02,   9.87851304e+01,  -1.84288046e+03,\n",
       "           9.44897227e+02,  -1.18086713e+03,   4.75395647e+02,\n",
       "          -3.48039229e+02,   3.38134477e+00,   1.43036489e+02,\n",
       "           2.67510751e+01,  -1.11347598e+02],\n",
       "        [  4.36744761e+02,   1.68037943e+03,  -1.15207378e+02,\n",
       "          -1.71366663e+03,   2.64250367e+03,  -2.53302302e+03,\n",
       "          -9.89829789e+02,   4.94398065e+02,  -1.08915396e+03,\n",
       "           6.62444869e+02,  -2.76954226e+01,   4.19709087e+02,\n",
       "          -4.34521295e+02,   5.26920480e+02,  -4.31632080e+02,\n",
       "           9.03207403e+02,   1.51602932e+02,  -7.15582477e+02,\n",
       "           3.40707934e+01,   7.88998695e+01],\n",
       "        [  1.62876401e+03,  -6.79090931e+02,   4.94387364e+03,\n",
       "           2.95872502e+03,   2.78577404e+03,   2.13122475e+03,\n",
       "          -3.35482698e+02,   3.79406008e+02,  -2.11834867e+02,\n",
       "           9.30385662e+02,   1.36605270e+02,   2.63948082e+02,\n",
       "          -1.88599320e+02,   1.19796076e+02,   1.82926983e+01,\n",
       "          -1.14885104e+02,   5.32502092e+01,   1.78608905e+02,\n",
       "          -3.07097592e+02,   4.34106446e+01],\n",
       "        [ -4.52338063e+02,  -3.50033184e+03,  -1.58398853e+02,\n",
       "          -6.38219466e+02,   4.63125655e+02,  -8.05743974e+01,\n",
       "           2.80764264e+02,   1.39559126e+02,  -2.58865950e+01,\n",
       "           5.83122962e+02,   1.60947147e+02,  -4.54474837e+02,\n",
       "           4.50172213e+02,  -2.67948914e+02,  -8.10859251e-01,\n",
       "           5.21760746e+02,   8.27037012e+01,  -2.87352637e+02,\n",
       "           2.41439440e+02,   5.58423527e+02],\n",
       "        [ -3.46670281e+02,  -2.87808633e+03,   8.90527196e+01,\n",
       "          -8.53055349e+01,  -4.24971800e+02,   6.77786803e+02,\n",
       "           1.28956885e+03,  -2.03634983e+03,  -2.04840259e+03,\n",
       "          -4.68970043e+02,   7.03824424e+02,   1.82565892e+02,\n",
       "           5.01725469e+01,   2.02813229e+02,   5.90987951e+01,\n",
       "           4.84662586e+02,   1.38408058e+02,   1.22424153e+01,\n",
       "           1.40333910e+02,  -1.08423821e+02],\n",
       "        [ -3.88682520e+02,  -3.04735997e+03,  -1.63882226e+03,\n",
       "           1.09962598e+01,  -2.90691023e+02,   3.87708358e+02,\n",
       "           2.07815246e+02,   1.14539726e+03,  -1.62127747e+02,\n",
       "           5.49761973e+02,  -1.12267460e+02,  -3.75233378e+02,\n",
       "           8.52198258e+02,   1.41928508e+03,   6.96896082e+02,\n",
       "           2.52816167e+01,  -9.55079869e+01,   1.32087390e+02,\n",
       "          -2.33912668e+01,  -7.69850959e+01],\n",
       "        [ -1.56891011e+02,  -4.02557779e+03,   3.50326573e+02,\n",
       "          -1.54116005e+03,  -3.89368479e+02,   2.23951161e+02,\n",
       "          -4.68105688e+02,  -1.15412428e+02,   4.77110980e+02,\n",
       "          -2.88229758e+02,   2.15988152e+02,   3.40298745e+02,\n",
       "          -1.21566841e+02,  -3.73257530e+02,   1.59024995e+02,\n",
       "           1.08376423e+02,   1.70604615e+02,  -4.87367029e+00,\n",
       "          -1.92515953e+02,  -1.65168818e+02],\n",
       "        [  1.93202519e+02,  -1.58398494e+03,  -4.11374898e+03,\n",
       "           1.27364502e+03,   2.45496742e+03,   8.64784420e+01,\n",
       "           8.82511325e+02,  -7.65135917e+02,   3.91171418e+02,\n",
       "           1.85868444e+02,  -1.45987912e+03,  -1.36784567e+02,\n",
       "          -1.02351641e+03,  -1.85944969e+02,   2.45695062e+02,\n",
       "          -6.47668590e+02,  -1.33462901e+02,   2.07461813e+01,\n",
       "          -3.33248914e+01,  -3.14182800e+02],\n",
       "        [  2.26975782e+01,  -4.21009063e+03,   7.74826414e+02,\n",
       "          -1.58546884e+03,  -2.95041890e+02,   2.70210452e+02,\n",
       "          -2.67117205e+02,   2.03173674e+02,   1.09071262e+03,\n",
       "          -4.77749201e+02,   2.29760403e+02,   4.11978437e+02,\n",
       "          -4.91343973e+02,  -6.61585712e+02,   2.03343648e+02,\n",
       "           3.31534793e+02,   1.28838876e+02,   3.08417217e+01,\n",
       "           3.01759569e+01,  -5.15345502e+01],\n",
       "        [ -5.20201431e+02,  -2.46760873e+03,  -2.25412135e+03,\n",
       "          -1.37301869e+02,   2.90770471e+02,   6.05949695e+02,\n",
       "          -1.88409999e+02,   1.14611302e+03,  -6.74030415e+02,\n",
       "           3.19358928e+02,   6.19935352e+02,   4.52963781e+01,\n",
       "           3.37683150e+02,  -3.37871169e+02,  -1.20075753e+03,\n",
       "          -7.19513062e+02,  -2.68956175e+02,   8.20671238e+01,\n",
       "          -1.85238915e+02,   1.55734197e+02],\n",
       "        [ -4.10479846e+02,   3.53337399e+02,   3.40723395e+02,\n",
       "           1.49673595e+03,  -8.12660510e+02,  -5.93126568e+02,\n",
       "          -1.36479543e+02,  -4.73706535e+02,  -1.15075269e+03,\n",
       "          -1.19390789e+03,   3.02891243e+01,   2.87244873e+02,\n",
       "          -2.71520635e+02,   3.72521509e+02,  -4.57574837e+01,\n",
       "          -2.92029124e+02,  -1.82880166e+02,  -6.77719326e+01,\n",
       "          -1.92753671e+01,   1.65310216e+02],\n",
       "        [ -3.02361016e+02,   2.49823766e+02,   5.03402269e+02,\n",
       "           1.50544557e+03,  -9.21814624e+02,  -6.04065602e+02,\n",
       "           4.55683428e+01,  -4.83923022e+02,  -1.17313664e+03,\n",
       "          -1.52790990e+03,   5.46024345e+01,   4.39459844e+02,\n",
       "          -3.71153993e+02,   5.64218450e+02,   2.48130649e+01,\n",
       "          -2.61834937e+02,  -1.90814772e+02,  -1.47160910e+02,\n",
       "          -3.84019380e+01,   1.86320139e+01],\n",
       "        [ -2.74368010e+02,  -3.73920489e+02,   9.96942081e+02,\n",
       "           2.15120093e+02,  -1.13631230e+03,  -7.63883939e+02,\n",
       "          -5.42839517e+02,   1.82312525e+02,   7.61200131e+02,\n",
       "           3.88934405e+02,  -8.19202964e+02,  -4.31877245e+02,\n",
       "           9.19810644e+02,   1.66666013e+03,   2.43254684e+02,\n",
       "          -1.43103556e+01,  -5.24696356e+01,   2.13952659e+02,\n",
       "           8.39997111e+01,  -1.17363006e+02],\n",
       "        [ -2.07619971e+02,   1.11371887e+03,  -7.98319424e+02,\n",
       "           8.35750190e+02,   2.94684594e+02,  -4.72598302e+02,\n",
       "           1.40807301e+02,  -2.04366314e+03,   1.26313709e+03,\n",
       "           1.35848065e+00,  -9.13760726e+02,   3.93412199e+02,\n",
       "           1.34159185e+02,   2.31348727e+02,  -2.90603072e+02,\n",
       "           3.75131486e+02,   1.92246730e+02,   2.97940883e+02,\n",
       "          -3.08355257e+02,   3.61004350e+02],\n",
       "        [  4.01310584e+02,   1.97300468e+03,  -1.88480621e+03,\n",
       "           1.42594552e+03,   1.11073577e+03,   9.38143739e+01,\n",
       "          -4.53049156e+02,  -1.04839798e+03,   2.13924004e+03,\n",
       "          -3.99721198e+02,   2.39452216e+03,  -1.13337800e+02,\n",
       "           4.26481100e+02,   2.86623796e+02,   1.62567940e+02,\n",
       "           1.64311834e+02,  -7.25267575e+01,  -2.62475222e+02,\n",
       "           1.98862640e+02,  -5.50241407e+01],\n",
       "        [  3.18732052e+02,  -1.56665698e+03,   2.63035508e+03,\n",
       "          -3.58361543e+02,  -2.91307391e+02,  -1.40129558e+03,\n",
       "          -1.11093151e+03,   3.42534938e+02,   1.60264676e+03,\n",
       "          -1.13230272e+03,  -6.30573309e+02,   4.94078738e+01,\n",
       "          -6.94899573e+02,  -1.16044544e+02,  -6.37839245e+01,\n",
       "          -2.93457562e+02,  -1.28916080e+02,  -1.38229239e+02,\n",
       "           2.98814804e+02,  -1.31298121e+02],\n",
       "        [ -3.99980877e+02,   4.87043936e+02,  -4.68602966e+02,\n",
       "           5.01532077e+02,  -7.49865221e+02,  -3.57583224e+02,\n",
       "          -1.02932024e+03,   8.94791902e+02,   1.15414756e+02,\n",
       "          -1.27385808e+02,   1.32484345e+02,   1.74270770e+02,\n",
       "           3.71200240e+02,  -5.49068348e+01,  -1.49567094e+03,\n",
       "          -7.59207179e+02,  -2.37441196e+02,   1.10817366e+02,\n",
       "          -2.52806383e+02,   2.64688520e+02]])"
      ]
     },
     "execution_count": 129,
     "metadata": {},
     "output_type": "execute_result"
    }
   ],
   "source": [
    "YBad"
   ]
  },
  {
   "cell_type": "code",
   "execution_count": 132,
   "metadata": {
    "collapsed": false
   },
   "outputs": [],
   "source": [
    "for j in range(0,20):\n",
    "    if (Y1Good[0,j] < 0 and Y1Bad[0,j] >0) or (Y1Good[0,j] > 0 and Y1Bad[0,j] <0):\n",
    "        YBad[:,j] *= -1\n",
    "        "
   ]
  },
  {
   "cell_type": "code",
   "execution_count": 133,
   "metadata": {
    "collapsed": false
   },
   "outputs": [],
   "source": [
    "#Image reconstruction\n",
    "#Lets see how the reconstrcuted image looks like\n",
    "\n",
    "Xhat = YBad*numpy.transpose(WGood) + MuGood"
   ]
  },
  {
   "cell_type": "code",
   "execution_count": 134,
   "metadata": {
    "collapsed": true
   },
   "outputs": [],
   "source": [
    "Ximage2 = numpy.empty((105,105,28))"
   ]
  },
  {
   "cell_type": "code",
   "execution_count": 135,
   "metadata": {
    "collapsed": true
   },
   "outputs": [],
   "source": [
    "# Xhat is the vectorized version, let us put vectors back into images\n",
    "\n",
    "for t in range(0,28):\n",
    "    for n in range(0,105):\n",
    "        for m in range(0, 105):\n",
    "            #Ihat(n,m,t) = Xhat(t,(m-1)*105+ n)\n",
    "            Ximage2[n,m,t] = Xhat[t,m*105+n-1]\n",
    "\n",
    "            \n",
    "            \n"
   ]
  },
  {
   "cell_type": "code",
   "execution_count": 136,
   "metadata": {
    "collapsed": false
   },
   "outputs": [
    {
     "data": {
      "text/plain": [
       "<matplotlib.image.AxesImage at 0x10d1e5110>"
      ]
     },
     "execution_count": 136,
     "metadata": {},
     "output_type": "execute_result"
    },
    {
     "data": {
      "image/png": "[encoded data removed]",
      "text/plain": [
       "<matplotlib.figure.Figure at 0x10cebbf90>"
      ]
     },
     "metadata": {},
     "output_type": "display_data"
    }
   ],
   "source": [
    "\n",
    "matplotlib.pyplot.imshow(Ximagebad[:,:,8],cmap=cm.Greys_r)\n",
    "# Play around with K to see the difference"
   ]
  },
  {
   "cell_type": "code",
   "execution_count": null,
   "metadata": {
    "collapsed": true
   },
   "outputs": [],
   "source": []
  }
 ],
 "metadata": {
  "kernelspec": {
   "display_name": "Python 2",
   "language": "python",
   "name": "python2"
  },
  "language_info": {
   "codemirror_mode": {
    "name": "ipython",
    "version": 2
   },
   "file_extension": ".py",
   "mimetype": "text/x-python",
   "name": "python",
   "nbconvert_exporter": "python",
   "pygments_lexer": "ipython2",
   "version": "2.7.10"
  }
 },
 "nbformat": 4,
 "nbformat_minor": 0
}
