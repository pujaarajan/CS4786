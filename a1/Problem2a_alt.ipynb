{
 "cells": [
  {
   "cell_type": "code",
   "execution_count": 1,
   "metadata": {
    "collapsed": false
   },
   "outputs": [
    {
     "name": "stdout",
     "output_type": "stream",
     "text": [
      "Using matplotlib backend: MacOSX\n",
      "Populating the interactive namespace from numpy and matplotlib\n"
     ]
    }
   ],
   "source": [
    "%pylab"
   ]
  },
  {
   "cell_type": "code",
   "execution_count": 5,
   "metadata": {
    "collapsed": false
   },
   "outputs": [],
   "source": [
    "XA=genfromtxt('XA.csv',delimiter=',')"
   ]
  },
  {
   "cell_type": "code",
   "execution_count": 6,
   "metadata": {
    "collapsed": false
   },
   "outputs": [],
   "source": [
    "XB=genfromtxt('XB.csv',delimiter=',')"
   ]
  },
  {
   "cell_type": "code",
   "execution_count": 7,
   "metadata": {
    "collapsed": true
   },
   "outputs": [],
   "source": [
    "XC=genfromtxt('XC.csv',delimiter=',')"
   ]
  },
  {
   "cell_type": "code",
   "execution_count": 267,
   "metadata": {
    "collapsed": false
   },
   "outputs": [],
   "source": [
    "def cca(XA,XB,d):\n",
    "    XA_c=matrix(XA-average(XA,0))\n",
    "    XB_c=matrix(XB-average(XB,0))\n",
    "    sig11=transpose(XA_c)*XA_c\n",
    "    sig12=transpose(XA_c)*XB_c\n",
    "    sig22=transpose(XB_c)*XB_c\n",
    "    sig21=transpose(XB_c)*XA_c\n",
    "    lambdaA,wA=linalg.eig(inv(sig11)*sig12*inv(sig22)*sig21)\n",
    "    return XA_c*matrix(wA[:,0:d])\n"
   ]
  },
  {
   "cell_type": "code",
   "execution_count": 275,
   "metadata": {
    "collapsed": true
   },
   "outputs": [],
   "source": [
    "def cca2(XA,XB,XC):\n",
    "    XA_c=matrix(XA-average(XA,0))\n",
    "    XB_c=matrix(XB-average(XB,0))\n",
    "    XC_c=matrix(XC-average(XC,0))\n",
    "    sig11=transpose(XA_c)*XA_c\n",
    "    sig12=transpose(XA_c)*XB_c\n",
    "    sig22=transpose(XB_c)*XB_c\n",
    "    sig23=transpose(XB_c)*XC_c\n",
    "    sig33=transpose(XC_c)*XC_c\n",
    "    sig32=transpose(XC_c)*XB_c\n",
    "    sig21=transpose(XB_c)*XA_c\n",
    "\n",
    "    lambdaA,wA=linalg.eig(inv(sig11)*sig12*inv(sig22)*sig23*inv(sig33)*sig32*inv(sig22)*sig21)\n",
    "    return XA_c*matrix(wA[:,0])\n"
   ]
  },
  {
   "cell_type": "code",
   "execution_count": 269,
   "metadata": {
    "collapsed": false
   },
   "outputs": [],
   "source": [
    "temp=cca(XA,XB,10)"
   ]
  },
  {
   "cell_type": "code",
   "execution_count": 270,
   "metadata": {
    "collapsed": false
   },
   "outputs": [],
   "source": [
    "temp2=cca2(XA,XB,XC)"
   ]
  },
  {
   "cell_type": "code",
   "execution_count": 271,
   "metadata": {
    "collapsed": false
   },
   "outputs": [],
   "source": [
    "LabelABC=genfromtxt('LabelABC.csv',delimiter=',')"
   ]
  },
  {
   "cell_type": "code",
   "execution_count": 272,
   "metadata": {
    "collapsed": false
   },
   "outputs": [],
   "source": [
    "YABC=[ 1. if x > 0. else 0. for x in temp2 ]"
   ]
  },
  {
   "cell_type": "code",
   "execution_count": 274,
   "metadata": {
    "collapsed": false
   },
   "outputs": [
    {
     "data": {
      "text/plain": [
       "0.98699999999999999"
      ]
     },
     "execution_count": 274,
     "metadata": {},
     "output_type": "execute_result"
    }
   ],
   "source": [
    "1.-sum(abs(YABC-LabelABC))/1000"
   ]
  },
  {
   "cell_type": "code",
   "execution_count": null,
   "metadata": {
    "collapsed": true
   },
   "outputs": [],
   "source": []
  },
  {
   "cell_type": "code",
   "execution_count": null,
   "metadata": {
    "collapsed": true
   },
   "outputs": [],
   "source": []
  }
 ],
 "metadata": {
  "kernelspec": {
   "display_name": "Python 2",
   "language": "python",
   "name": "python2"
  },
  "language_info": {
   "codemirror_mode": {
    "name": "ipython",
    "version": 2
   },
   "file_extension": ".py",
   "mimetype": "text/x-python",
   "name": "python",
   "nbconvert_exporter": "python",
   "pygments_lexer": "ipython2",
   "version": "2.7.10"
  }
 },
 "nbformat": 4,
 "nbformat_minor": 0
}
