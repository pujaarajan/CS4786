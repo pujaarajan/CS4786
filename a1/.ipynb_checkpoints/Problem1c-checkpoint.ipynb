{
 "cells": [
  {
   "cell_type": "code",
   "execution_count": 266,
   "metadata": {
    "collapsed": true
   },
   "outputs": [],
   "source": [
    "import numpy\n",
    "import numpy.matlib\n",
    "import matplotlib.pyplot\n",
    "%matplotlib inline\n",
    "import random\n",
    "import matplotlib.cm as cm"
   ]
  },
  {
   "cell_type": "code",
   "execution_count": 267,
   "metadata": {
    "collapsed": false
   },
   "outputs": [],
   "source": [
    "Xbad = numpy.matrix(numpy.loadtxt(\"q1/Xbad.csv\", delimiter=\",\"))\n",
    "# now X is the data matrix and each row of X corresponds to one data point"
   ]
  },
  {
   "cell_type": "code",
   "execution_count": 268,
   "metadata": {
    "collapsed": false
   },
   "outputs": [],
   "source": [
    "Mu = numpy.matrix(numpy.loadtxt(\"q1/Mu.csv\", delimiter=\",\"))\n",
    "# Mu is the mean vector of all the smilie faces (in vector format)"
   ]
  },
  {
   "cell_type": "code",
   "execution_count": 269,
   "metadata": {
    "collapsed": true
   },
   "outputs": [],
   "source": [
    "Sigma = numpy.matrix(numpy.cov(Xbad))\n",
    "# Numpy does the covariance calculation for you using function cov"
   ]
  },
  {
   "cell_type": "code",
   "execution_count": 270,
   "metadata": {
    "collapsed": true
   },
   "outputs": [],
   "source": [
    "W = numpy.matrix(numpy.loadtxt(\"q1/W.csv\", delimiter=\",\"))"
   ]
  },
  {
   "cell_type": "code",
   "execution_count": 271,
   "metadata": {
    "collapsed": true
   },
   "outputs": [],
   "source": [
    "Y1 = numpy.matrix(numpy.loadtxt(\"q1/Y1.csv\", delimiter=\",\"))"
   ]
  },
  {
   "cell_type": "code",
   "execution_count": 272,
   "metadata": {
    "collapsed": false
   },
   "outputs": [
    {
     "data": {
      "text/plain": [
       "(11025, 20)"
      ]
     },
     "execution_count": 272,
     "metadata": {},
     "output_type": "execute_result"
    }
   ],
   "source": [
    "W.shape"
   ]
  },
  {
   "cell_type": "code",
   "execution_count": 273,
   "metadata": {
    "collapsed": false
   },
   "outputs": [],
   "source": [
    "Y = (Xbad-numpy.average(Xbad,0))*W\n",
    "# Here is the line that does the linear projection to lower dimension\n",
    "# We are doing all the 28 ones in a batch and repmat repeats the single\n",
    "# mean vector 28 times"
   ]
  },
  {
   "cell_type": "markdown",
   "metadata": {},
   "source": [
    "#HELP"
   ]
  },
  {
   "cell_type": "code",
   "execution_count": 274,
   "metadata": {
    "collapsed": false
   },
   "outputs": [
    {
     "data": {
      "text/plain": [
       "(28, 11025)"
      ]
     },
     "execution_count": 274,
     "metadata": {},
     "output_type": "execute_result"
    }
   ],
   "source": [
    "Xbad.shape"
   ]
  },
  {
   "cell_type": "code",
   "execution_count": 275,
   "metadata": {
    "collapsed": false
   },
   "outputs": [
    {
     "data": {
      "text/plain": [
       "(28, 20)"
      ]
     },
     "execution_count": 275,
     "metadata": {},
     "output_type": "execute_result"
    }
   ],
   "source": [
    "Y.shape"
   ]
  },
  {
   "cell_type": "code",
   "execution_count": 276,
   "metadata": {
    "collapsed": false
   },
   "outputs": [],
   "source": [
    "for i in range(0,28):\n",
    "    for j in range(0,20):\n",
    "        if (Y1[0,j] < 0 and Y[i,j] >0) or (Y1[0,j] > 0 and Y[i,j] <0):\n",
    "            Y[i,j] *= -1"
   ]
  },
  {
   "cell_type": "code",
   "execution_count": 277,
   "metadata": {
    "collapsed": false
   },
   "outputs": [
    {
     "data": {
      "text/plain": [
       "<matplotlib.collections.PathCollection at 0x11a8bb6d0>"
      ]
     },
     "execution_count": 277,
     "metadata": {},
     "output_type": "execute_result"
    },
    {
     "data": {
      "image/png": "[encoded data removed]",
      "text/plain": [
       "<matplotlib.figure.Figure at 0x11ad2d490>"
      ]
     },
     "metadata": {},
     "output_type": "display_data"
    }
   ],
   "source": [
    "# First column of Y is the data on first principal component, second column\n",
    "# is the second principal component and so on\n",
    "\n",
    "#The below snippet that shows the 2 dimensional scatter plot of the images\n",
    "matplotlib.pyplot.scatter(Y[:,0], Y[:,1])\n",
    "#hold on\n",
    "#for t = 1:28\n",
    "#image([Y(t,1),Y(t,1)+400], [Y(t,2),Y(t,2)-400],I(:,:,t));\n",
    "#end\n",
    "# notice that the wink images are seperated from the other ones"
   ]
  },
  {
   "cell_type": "code",
   "execution_count": 278,
   "metadata": {
    "collapsed": false
   },
   "outputs": [],
   "source": [
    "#Image reconstruction\n",
    "#Lets see how the reconstrcuted image looks like\n",
    "\n",
    "Xhat = Y*numpy.transpose(W) + Mu"
   ]
  },
  {
   "cell_type": "code",
   "execution_count": 279,
   "metadata": {
    "collapsed": false
   },
   "outputs": [],
   "source": [
    "Ximage = numpy.empty((105,105,28))"
   ]
  },
  {
   "cell_type": "code",
   "execution_count": 280,
   "metadata": {
    "collapsed": true
   },
   "outputs": [],
   "source": [
    "Ximage2 = numpy.empty((105,105,28))"
   ]
  },
  {
   "cell_type": "code",
   "execution_count": 281,
   "metadata": {
    "collapsed": false
   },
   "outputs": [],
   "source": [
    "# Xhat is the vectorized version, let us put vectors back into images\n",
    "\n",
    "for t in range(0,28):\n",
    "    for n in range(0,105):\n",
    "        for m in range(0, 105):\n",
    "            #Ihat(n,m,t) = Xhat(t,(m-1)*105+ n)\n",
    "            Ximage[n,m,t] = Xhat[t,(m-1)*105+ n]\n",
    "            Ximage2[n,m,t] = Xbad[t,(m-1)*105+ n]\n",
    "\n",
    "            \n",
    "            \n"
   ]
  },
  {
   "cell_type": "code",
   "execution_count": 298,
   "metadata": {
    "collapsed": false
   },
   "outputs": [
    {
     "data": {
      "text/plain": [
       "<matplotlib.image.AxesImage at 0x11cad9d50>"
      ]
     },
     "execution_count": 298,
     "metadata": {},
     "output_type": "execute_result"
    },
    {
     "data": {
      "image/png": "[encoded data removed]",
      "text/plain": [
       "<matplotlib.figure.Figure at 0x11cb790d0>"
      ]
     },
     "metadata": {},
     "output_type": "display_data"
    }
   ],
   "source": [
    "R = random.randint(1, 28)\n",
    "matplotlib.pyplot.imshow(Ximage[:,:,R],cmap=cm.Greys_r)\n",
    "# Play around with K to see the difference"
   ]
  },
  {
   "cell_type": "code",
   "execution_count": null,
   "metadata": {
    "collapsed": true
   },
   "outputs": [],
   "source": []
  }
 ],
 "metadata": {
  "kernelspec": {
   "display_name": "Python 2",
   "language": "python",
   "name": "python2"
  },
  "language_info": {
   "codemirror_mode": {
    "name": "ipython",
    "version": 2
   },
   "file_extension": ".py",
   "mimetype": "text/x-python",
   "name": "python",
   "nbconvert_exporter": "python",
   "pygments_lexer": "ipython2",
   "version": "2.7.10"
  }
 },
 "nbformat": 4,
 "nbformat_minor": 0
}
