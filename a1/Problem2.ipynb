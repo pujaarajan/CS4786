{
 "cells": [
  {
   "cell_type": "code",
   "execution_count": 180,
   "metadata": {
    "collapsed": false
   },
   "outputs": [
    {
     "name": "stdout",
     "output_type": "stream",
     "text": [
      "Using matplotlib backend: MacOSX\n",
      "Populating the interactive namespace from numpy and matplotlib\n"
     ]
    }
   ],
   "source": [
    "%pylab"
   ]
  },
  {
   "cell_type": "code",
   "execution_count": 181,
   "metadata": {
    "collapsed": false
   },
   "outputs": [],
   "source": [
    "XA=genfromtxt('q2/XA.csv',delimiter=',')"
   ]
  },
  {
   "cell_type": "code",
   "execution_count": 182,
   "metadata": {
    "collapsed": false
   },
   "outputs": [],
   "source": [
    "XB=genfromtxt('q2/XB.csv',delimiter=',')"
   ]
  },
  {
   "cell_type": "code",
   "execution_count": 183,
   "metadata": {
    "collapsed": true
   },
   "outputs": [],
   "source": [
    "XC=genfromtxt('q2/XC.csv',delimiter=',')"
   ]
  },
  {
   "cell_type": "code",
   "execution_count": 184,
   "metadata": {
    "collapsed": true
   },
   "outputs": [],
   "source": [
    "LabelABC=genfromtxt('q2/LabelABC.csv',delimiter=',')"
   ]
  },
  {
   "cell_type": "code",
   "execution_count": 185,
   "metadata": {
    "collapsed": true
   },
   "outputs": [],
   "source": [
    "LabelAB=genfromtxt('q2/LabelAB.csv',delimiter=',')"
   ]
  },
  {
   "cell_type": "code",
   "execution_count": 198,
   "metadata": {
    "collapsed": false
   },
   "outputs": [],
   "source": [
    "def cca(XA,XB,d):\n",
    "    XA_c=matrix(XA-average(XA,0))\n",
    "    XB_c=matrix(XB-average(XB,0))\n",
    "    sig11=transpose(XA_c)*XA_c\n",
    "    sig12=transpose(XA_c)*XB_c\n",
    "    sig22=transpose(XB_c)*XB_c\n",
    "    sig21=transpose(XB_c)*XA_c\n",
    "    lambdaA,wA=linalg.eig(inv(sig11)*sig12*inv(sig22)*sig21)\n",
    "    ind=argsort(lambdaA)[::-1]\n",
    "    return XA_c*matrix(wA[:,ind[0:d]])\n"
   ]
  },
  {
   "cell_type": "code",
   "execution_count": 214,
   "metadata": {
    "collapsed": true
   },
   "outputs": [],
   "source": [
    "def cca2(XA,XB,d):\n",
    "    XA_c=matrix(XA-average(XA,0))\n",
    "    XB_c=matrix(XB-average(XB,0))\n",
    "    sig11=transpose(XA_c)*XA_c\n",
    "    sig12=transpose(XA_c)*XB_c\n",
    "    sig22=transpose(XB_c)*XB_c\n",
    "    sig21=transpose(XB_c)*XA_c\n",
    "    lambdaA,wA=linalg.eig(inv(sig11)*sig12*inv(sig22)*sig21)\n",
    "    ind=argsort(lambdaA)\n",
    "    return XA_c*matrix(wA[:,ind[0:d]])"
   ]
  },
  {
   "cell_type": "markdown",
   "metadata": {},
   "source": [
    "Part 1 - XA,XB,XC shared"
   ]
  },
  {
   "cell_type": "code",
   "execution_count": 215,
   "metadata": {
    "collapsed": false
   },
   "outputs": [],
   "source": [
    "pXA_pXB=cca(XA,XB,2)"
   ]
  },
  {
   "cell_type": "code",
   "execution_count": 216,
   "metadata": {
    "collapsed": false
   },
   "outputs": [],
   "source": [
    "pXA_pXB_pXC=cca(temp,XC,1)"
   ]
  },
  {
   "cell_type": "code",
   "execution_count": 217,
   "metadata": {
    "collapsed": false
   },
   "outputs": [],
   "source": [
    "YABC=[ 1. if x > 0. else 0. for x in pXA_pXB_pXC ]"
   ]
  },
  {
   "cell_type": "code",
   "execution_count": 218,
   "metadata": {
    "collapsed": false
   },
   "outputs": [
    {
     "data": {
      "text/plain": [
       "0.98699999999999999"
      ]
     },
     "execution_count": 218,
     "metadata": {},
     "output_type": "execute_result"
    }
   ],
   "source": [
    "sum(YABC==LabelABC)/1000."
   ]
  },
  {
   "cell_type": "markdown",
   "metadata": {},
   "source": [
    "Part 2 - XA,XB shared, XC not shared"
   ]
  },
  {
   "cell_type": "code",
   "execution_count": 222,
   "metadata": {
    "collapsed": false
   },
   "outputs": [],
   "source": [
    "pXA_pXB_mXC=cca2(temp,XC,1)"
   ]
  },
  {
   "cell_type": "code",
   "execution_count": 223,
   "metadata": {
    "collapsed": true
   },
   "outputs": [],
   "source": [
    "YAB=[ 1. if x > 0. else 0. for x in pXA_pXB_mXC ]"
   ]
  },
  {
   "cell_type": "code",
   "execution_count": 224,
   "metadata": {
    "collapsed": false
   },
   "outputs": [
    {
     "data": {
      "text/plain": [
       "0.96099999999999997"
      ]
     },
     "execution_count": 224,
     "metadata": {},
     "output_type": "execute_result"
    }
   ],
   "source": [
    "sum(YAB==LabelAB)/1000."
   ]
  }
 ],
 "metadata": {
  "kernelspec": {
   "display_name": "Python 2",
   "language": "python",
   "name": "python2"
  },
  "language_info": {
   "codemirror_mode": {
    "name": "ipython",
    "version": 2
   },
   "file_extension": ".py",
   "mimetype": "text/x-python",
   "name": "python",
   "nbconvert_exporter": "python",
   "pygments_lexer": "ipython2",
   "version": "2.7.10"
  }
 },
 "nbformat": 4,
 "nbformat_minor": 0
}
